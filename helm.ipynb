{
 "cells": [
  {
   "cell_type": "markdown",
   "metadata": {},
   "source": [
    "# Deploy a web application with Helm"
   ]
  },
  {
   "cell_type": "markdown",
   "metadata": {},
   "source": [
    "In order to deploy an application with Helm you will need a kubeconfig for the cluster you want to deploy to, a namespace to deploy to, and a containerized version of the application to deploy"
   ]
  },
  {
   "cell_type": "markdown",
   "metadata": {},
   "source": [
    "Running the next cell will open a series of Widgets for user input on their application."
   ]
  },
  {
   "cell_type": "code",
   "execution_count": null,
   "metadata": {},
   "outputs": [],
   "source": [
    "from ipywidgets import widgets\n",
    "\n",
    "kubeconfig_select = widgets.Text(description=\"Full path to kubeconfig file\", style=dict(description_width='initial'))\n",
    "app_name_select = widgets.Text(description=\"Application Name\", style=dict(description_width='initial'))\n",
    "namespace_select = widgets.Text(description=\"K8s Namespace\", style=dict(description_width='initial'))\n",
    "image_select = widgets.Text(description=\"Container Image\", style=dict(description_width='initial'))\n",
    "path_select = widgets.Text(value='/',description=\"URL Path\", style=dict(description_width='initial'))\n",
    "dns_host_select = widgets.Text(description=\"DNS Hostname\", style=dict(description_width='initial'))\n",
    "internal_port_select =  widgets.BoundedIntText(value='8000',description=\"Exposed Container Port\",style=dict(description_width='initial'), min=1, max=65535, step=1)\n",
    "\n",
    "display(kubeconfig_select, app_name_select, namespace_select, image_select, path_select, dns_host_select, internal_port_select)\n",
    "\n",
    "def select_vals(ev):\n",
    "    global kubeconfig, app_name, namespace, path, hostname, fqdn, image_name, internal_port\n",
    "    kubeconfig = kubeconfig_select.value\n",
    "    app_name = app_name_select.value.lower()\n",
    "    namespace = namespace_select.value\n",
    "    image_name = image_select.value\n",
    "    internal_port = internal_port_select.value\n",
    "    path = path_select.value\n",
    "    hostname = dns_host_select.value.lower()\n",
    "    fqdn = hostname + \".k8s.ucar.edu\"\n",
    "    with output:\n",
    "        print(\"Values to use in Helm chart\")\n",
    "        print(\"Path to kubeconfig: \" + kubeconfig)\n",
    "        print(\"Application Name: \" + app_name)\n",
    "        print(\"K8s Namespace: \" + namespace)\n",
    "        print(\"Container Image: \" + image_name)\n",
    "        print(\"Port Exposed on Container: \" + str(internal_port))\n",
    "        print(\"URL: https://\" + fqdn + path)\n",
    "\n",
    "button = widgets.Button(description=\"Submit\")\n",
    "output = widgets.Output()\n",
    "button.on_click(select_vals)\n",
    "display(button, output)"
   ]
  },
  {
   "cell_type": "markdown",
   "metadata": {},
   "source": [
    "Running the next cell will display a button to create a `values.yaml` file with the user supplied values that can be used in helm install."
   ]
  },
  {
   "cell_type": "code",
   "execution_count": null,
   "metadata": {},
   "outputs": [],
   "source": [
    "def change_values(ev):\n",
    "    search_text = [\"#APP_NAME\",\"#URL_PATH\",\"#FQDN\",'#HOST','#IMAGE_NAME','#CONTAINER_PORT']\n",
    "    replace_text = [app_name,path,fqdn,hostname,image_name,str(internal_port)]\n",
    "    with open('values_temp.yaml', 'r') as file:\n",
    "        data = file.read()\n",
    "        for i in range(len(search_text)):\n",
    "            data = data.replace(search_text[i], replace_text[i])\n",
    "    with open('web-app/values.yaml', 'w+') as file:\n",
    "        file.write(data)\n",
    "    with chg_output:\n",
    "        print(\"Helm Chart Values Updated\")\n",
    "        print(data)\n",
    "\n",
    "chg_button = widgets.Button(description=\"Update Helm Values\")\n",
    "chg_output = widgets.Output()\n",
    "chg_button.on_click(change_values)\n",
    "display(chg_button, chg_output)"
   ]
  },
  {
   "cell_type": "markdown",
   "metadata": {},
   "source": [
    "The next cell will set the namespace to use and the kubeconfig path as environment variables. The kubeconfig will be used directly by Helm now without having to specify which file to use. The namespace will be fed in directly to the `helm install` command. "
   ]
  },
  {
   "cell_type": "code",
   "execution_count": null,
   "metadata": {},
   "outputs": [],
   "source": [
    "import os\n",
    "os.environ[\"KUBENS\"] = namespace\n",
    "os.environ['KUBECONFIG'] = kubeconfig\n",
    "!helm install --namespace $KUBENS web-app ./web-app"
   ]
  },
  {
   "cell_type": "markdown",
   "metadata": {},
   "source": [
    "If you want to remove the installation copy the line below in to a code block in this notebook and run it. \n",
    "\n",
    "`!helm uninstall --namespace $KUBENS web-app`"
   ]
  }
 ],
 "metadata": {
  "kernelspec": {
   "display_name": "Python 3",
   "language": "python",
   "name": "python3"
  },
  "language_info": {
   "codemirror_mode": {
    "name": "ipython",
    "version": 3
   },
   "file_extension": ".py",
   "mimetype": "text/x-python",
   "name": "python",
   "nbconvert_exporter": "python",
   "pygments_lexer": "ipython3",
   "version": "3.10.12"
  },
  "orig_nbformat": 4
 },
 "nbformat": 4,
 "nbformat_minor": 2
}
