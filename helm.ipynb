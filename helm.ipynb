{
 "cells": [
  {
   "cell_type": "markdown",
   "metadata": {},
   "source": [
    "# Deploy a web application with Helm"
   ]
  },
  {
   "cell_type": "markdown",
   "metadata": {},
   "source": [
    "In order to deploy an application with Helm you will need a kubeconfig for the cluster you want to deploy to, a namespace to deploy to, and a containerized version of the application to deploy"
   ]
  },
  {
   "cell_type": "code",
   "execution_count": 1,
   "metadata": {},
   "outputs": [
    {
     "data": {
      "application/vnd.jupyter.widget-view+json": {
       "model_id": "7567416270b246eab14c1552532e5568",
       "version_major": 2,
       "version_minor": 0
      },
      "text/plain": [
       "Text(value='', description='Application Name', style=TextStyle(description_width='initial'))"
      ]
     },
     "metadata": {},
     "output_type": "display_data"
    },
    {
     "data": {
      "application/vnd.jupyter.widget-view+json": {
       "model_id": "28293530f530448fb53ec06ba6a99f3d",
       "version_major": 2,
       "version_minor": 0
      },
      "text/plain": [
       "Text(value='', description='K8s Namespace', style=TextStyle(description_width='initial'))"
      ]
     },
     "metadata": {},
     "output_type": "display_data"
    },
    {
     "data": {
      "application/vnd.jupyter.widget-view+json": {
       "model_id": "8454bb0ec0b944059ce596efed6bdc95",
       "version_major": 2,
       "version_minor": 0
      },
      "text/plain": [
       "Text(value='', description='Container Image', style=TextStyle(description_width='initial'))"
      ]
     },
     "metadata": {},
     "output_type": "display_data"
    },
    {
     "data": {
      "application/vnd.jupyter.widget-view+json": {
       "model_id": "08748616bacf40e0a3daf98575c2f129",
       "version_major": 2,
       "version_minor": 0
      },
      "text/plain": [
       "Text(value='/', description='URL Path', style=TextStyle(description_width='initial'))"
      ]
     },
     "metadata": {},
     "output_type": "display_data"
    },
    {
     "data": {
      "application/vnd.jupyter.widget-view+json": {
       "model_id": "5dd41d1fd5bc4d54820ae5ac57dfd000",
       "version_major": 2,
       "version_minor": 0
      },
      "text/plain": [
       "Text(value='', description='DNS Hostname', style=TextStyle(description_width='initial'))"
      ]
     },
     "metadata": {},
     "output_type": "display_data"
    },
    {
     "data": {
      "application/vnd.jupyter.widget-view+json": {
       "model_id": "77aa1ee95fb749a8a48beea705747df3",
       "version_major": 2,
       "version_minor": 0
      },
      "text/plain": [
       "BoundedIntText(value=8000, description='Exposed Container Port', max=65535, min=1, style=DescriptionStyle(desc…"
      ]
     },
     "metadata": {},
     "output_type": "display_data"
    },
    {
     "data": {
      "application/vnd.jupyter.widget-view+json": {
       "model_id": "e8d8674355df48dbbcdac27ea299c597",
       "version_major": 2,
       "version_minor": 0
      },
      "text/plain": [
       "Button(description='Submit', style=ButtonStyle())"
      ]
     },
     "metadata": {},
     "output_type": "display_data"
    },
    {
     "data": {
      "application/vnd.jupyter.widget-view+json": {
       "model_id": "1c5a6334f9db4fe5bbd9f523dbba94f5",
       "version_major": 2,
       "version_minor": 0
      },
      "text/plain": [
       "Output()"
      ]
     },
     "metadata": {},
     "output_type": "display_data"
    }
   ],
   "source": [
    "from ipywidgets import widgets\n",
    "\n",
    "app_name_select = widgets.Text(description=\"Application Name\", style=dict(description_width='initial'))\n",
    "namespace_select = widgets.Text(description=\"K8s Namespace\", style=dict(description_width='initial'))\n",
    "image_select = widgets.Text(description=\"Container Image\", style=dict(description_width='initial'))\n",
    "path_select = widgets.Text(value='/',description=\"URL Path\", style=dict(description_width='initial'))\n",
    "dns_host_select = widgets.Text(description=\"DNS Hostname\", style=dict(description_width='initial'))\n",
    "internal_port_select =  widgets.BoundedIntText(value='8000',description=\"Exposed Container Port\",style=dict(description_width='initial'), min=1, max=65535, step=1)\n",
    "\n",
    "display(app_name_select, namespace_select, image_select, path_select, dns_host_select, internal_port_select)\n",
    "\n",
    "def select_vals(ev):\n",
    "    global app_name, namespace, path, hostname, fqdn, image_name, internal_port\n",
    "    app_name = app_name_select.value.lower()\n",
    "    namespace = namespace_select.value\n",
    "    image_name = image_select.value\n",
    "    internal_port = internal_port_select.value\n",
    "    path = path_select.value\n",
    "    hostname = dns_host_select.value.lower()\n",
    "    fqdn = hostname + \".k8s.ucar.edu\"\n",
    "    with output:\n",
    "        print(\"Values to use in Helm chart\")\n",
    "        print(\"Application Name: \" + app_name)\n",
    "        print(\"K8s Namespace: \" + namespace)\n",
    "        print(\"Container Image: \" + image_name)\n",
    "        print(\"Port Exposed on Container: \" + str(internal_port))\n",
    "        print(\"URL: https://\" + fqdn + path)\n",
    "\n",
    "button = widgets.Button(description=\"Submit\")\n",
    "output = widgets.Output()\n",
    "button.on_click(select_vals)\n",
    "display(button, output)"
   ]
  },
  {
   "cell_type": "code",
   "execution_count": 2,
   "metadata": {},
   "outputs": [
    {
     "data": {
      "application/vnd.jupyter.widget-view+json": {
       "model_id": "24c6630c293e41c58877affd2d4d9af2",
       "version_major": 2,
       "version_minor": 0
      },
      "text/plain": [
       "Button(description='Update Helm Values', style=ButtonStyle())"
      ]
     },
     "metadata": {},
     "output_type": "display_data"
    },
    {
     "data": {
      "application/vnd.jupyter.widget-view+json": {
       "model_id": "22b50648191248c5b94fcf2e4750d367",
       "version_major": 2,
       "version_minor": 0
      },
      "text/plain": [
       "Output()"
      ]
     },
     "metadata": {},
     "output_type": "display_data"
    }
   ],
   "source": [
    "def change_values(ev):\n",
    "    search_text = [\"#APP_NAME\",\"#URL_PATH\",\"#FQDN\",'#HOST','#IMAGE_NAME','#CONTAINER_PORT']\n",
    "    replace_text = [app_name,path,fqdn,hostname,image_name,str(internal_port)]\n",
    "    with open('values_temp.yaml', 'r') as file:\n",
    "        data = file.read()\n",
    "        for i in range(len(search_text)):\n",
    "            data = data.replace(search_text[i], replace_text[i])\n",
    "    with open('web-app/values.yaml', 'w+') as file:\n",
    "        file.write(data)\n",
    "    with chg_output:\n",
    "        print(\"Helm Chart Values Updated\")\n",
    "        print(data)\n",
    "\n",
    "chg_button = widgets.Button(description=\"Update Helm Values\")\n",
    "chg_output = widgets.Output()\n",
    "chg_button.on_click(change_values)\n",
    "display(chg_button, chg_output)"
   ]
  },
  {
   "cell_type": "code",
   "execution_count": 3,
   "metadata": {},
   "outputs": [
    {
     "name": "stdout",
     "output_type": "stream",
     "text": [
      "NAME: web-app\n",
      "LAST DEPLOYED: Thu Aug  3 07:37:21 2023\n",
      "NAMESPACE: ncote-test\n",
      "STATUS: deployed\n",
      "REVISION: 1\n",
      "TEST SUITE: None\n"
     ]
    }
   ],
   "source": [
    "import os\n",
    "os.environ[\"KUBENS\"] = namespace\n",
    "os.environ['KUBECONFIG'] = '/home/ncote/.kube/cislrancher.yml'\n",
    "!helm install --namespace $KUBENS web-app ./web-app"
   ]
  },
  {
   "cell_type": "code",
   "execution_count": 4,
   "metadata": {},
   "outputs": [
    {
     "name": "stdout",
     "output_type": "stream",
     "text": [
      "release \"web-app\" uninstalled\n"
     ]
    }
   ],
   "source": [
    "!helm uninstall --namespace $KUBENS web-app"
   ]
  }
 ],
 "metadata": {
  "kernelspec": {
   "display_name": "Python 3",
   "language": "python",
   "name": "python3"
  },
  "language_info": {
   "codemirror_mode": {
    "name": "ipython",
    "version": 3
   },
   "file_extension": ".py",
   "mimetype": "text/x-python",
   "name": "python",
   "nbconvert_exporter": "python",
   "pygments_lexer": "ipython3",
   "version": "3.10.12"
  },
  "orig_nbformat": 4
 },
 "nbformat": 4,
 "nbformat_minor": 2
}
